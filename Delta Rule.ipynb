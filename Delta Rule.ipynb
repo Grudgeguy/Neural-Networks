{
 "cells": [
  {
   "cell_type": "code",
   "execution_count": 11,
   "id": "1415b57e",
   "metadata": {},
   "outputs": [],
   "source": [
    "import numpy as np\n",
    "\n",
    "class DeltaRule:\n",
    "    def __init__(self, in_channels, initial_weights=None, learning_rate=0.1):\n",
    "        self.in_channels = in_channels\n",
    "        self.learning_rate = learning_rate\n",
    "\n",
    "        if initial_weights is not None:\n",
    "            self.weights = initial_weights\n",
    "        else:\n",
    "            self.weights = np.random.randn(in_channels)\n",
    "        \n",
    "        self.bias = 0\n",
    "\n",
    "    def binary_activation(self, net_input):\n",
    "        return 1 if net_input >= 0 else -1\n",
    "\n",
    "    def train(self, input_vectors, target_output, num_epochs):\n",
    "        for epoch in range(num_epochs):\n",
    "            total_error = 0\n",
    "            for i in range(len(input_vectors)):\n",
    "                net_input = np.dot(self.weights, input_vectors[i]) + self.bias\n",
    "                y = self.binary_activation(net_input)\n",
    "                error = target_output[i] - y\n",
    "                if error != 0:\n",
    "                    delta_w = self.learning_rate * error * np.array(input_vectors[i])\n",
    "                    self.weights += delta_w\n",
    "                    self.bias += self.learning_rate * error\n",
    "\n",
    "                total_error += error\n",
    "\n",
    "            print(f\"Epoch {epoch + 1}:\")\n",
    "            print(\"Weights:\", self.weights)\n",
    "            print(\"Bias:\", self.bias)\n",
    "            print(\"Total Error:\", total_error)"
   ]
  },
  {
   "cell_type": "code",
   "execution_count": 12,
   "id": "79aeccc8",
   "metadata": {},
   "outputs": [
    {
     "name": "stdout",
     "output_type": "stream",
     "text": [
      "Epoch 1:\n",
      "Weights: [0.3 0. ]\n",
      "Bias: 0.2\n",
      "Total Error: 2\n",
      "Epoch 2:\n",
      "Weights: [0.1 0.2]\n",
      "Bias: 0.4\n",
      "Total Error: 2\n"
     ]
    }
   ],
   "source": [
    "a = [[-1, -1], [-1, 1], [1, -1], [1, 1]]\n",
    "t = [-1, 1, 1, 1]\n",
    "\n",
    "in_channels = len(a[0])\n",
    "initial_weights = [0.1, 0.2] \n",
    "learning_rate = 0.1\n",
    "num_epochs = 2\n",
    "\n",
    "model = DeltaRule(in_channels, initial_weights, learning_rate)\n",
    "model.train(input_vectors, target_output, num_epochs)"
   ]
  },
  {
   "cell_type": "code",
   "execution_count": null,
   "id": "214c4759",
   "metadata": {},
   "outputs": [],
   "source": []
  }
 ],
 "metadata": {
  "kernelspec": {
   "display_name": "Python 3 (ipykernel)",
   "language": "python",
   "name": "python3"
  },
  "language_info": {
   "codemirror_mode": {
    "name": "ipython",
    "version": 3
   },
   "file_extension": ".py",
   "mimetype": "text/x-python",
   "name": "python",
   "nbconvert_exporter": "python",
   "pygments_lexer": "ipython3",
   "version": "3.9.13"
  }
 },
 "nbformat": 4,
 "nbformat_minor": 5
}
