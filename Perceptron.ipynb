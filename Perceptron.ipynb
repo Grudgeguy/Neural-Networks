{
 "cells": [
  {
   "cell_type": "code",
   "execution_count": 5,
   "id": "2f3c902c",
   "metadata": {},
   "outputs": [],
   "source": [
    "import numpy as np\n",
    "import cv2 as cv\n",
    "import os\n",
    "import matplotlib.pyplot as plt\n",
    "import glob"
   ]
  },
  {
   "cell_type": "code",
   "execution_count": 6,
   "id": "95b42d7a",
   "metadata": {},
   "outputs": [
    {
     "name": "stdout",
     "output_type": "stream",
     "text": [
      "['Img1.jpg', 'Img3.jpg', 'Img4.jpg', 'Img_1.png', 'Img_2.png', 'Img_3.png', 'Img_4.png']\n"
     ]
    }
   ],
   "source": [
    "dir ='./Images'\n",
    "print(os.listdir(dir))"
   ]
  },
  {
   "cell_type": "markdown",
   "id": "1fe1af1e",
   "metadata": {},
   "source": [
    "#### threshold >= nw - p \n",
    "#### n= number of neuron inputs and w is initial weights associated with it and p is inhibiting weight"
   ]
  },
  {
   "cell_type": "code",
   "execution_count": 7,
   "id": "befc65bb",
   "metadata": {},
   "outputs": [],
   "source": [
    "def nn(ip,y):\n",
    "    w1=w2=b=1\n",
    "    for i in range(len(ip)):\n",
    "        w1=y[i]*ip[i][0] + w1\n",
    "        w2=y[i]*ip[i][1] + w2\n",
    "        b=b+y[i]\n",
    "        print(f\"W1 : {w1} W2 : {w2} b : {b}\")\n",
    "    return w1,w2,b"
   ]
  },
  {
   "cell_type": "code",
   "execution_count": 8,
   "id": "9b358c97",
   "metadata": {},
   "outputs": [],
   "source": [
    "def pred(ip,y,w1,w2,b):\n",
    "    ypr=[]\n",
    "    for i in range(len(ip)):\n",
    "        ans = w1*ip[i][0]+ w2*ip[i][1] + b\n",
    "        ypr.append(ans)\n",
    "    t=np.array(ypr)\n",
    "    return ypr"
   ]
  },
  {
   "cell_type": "markdown",
   "id": "f69d00b7",
   "metadata": {},
   "source": [
    "## And Gate"
   ]
  },
  {
   "cell_type": "code",
   "execution_count": 9,
   "id": "6ead77dc",
   "metadata": {},
   "outputs": [],
   "source": [
    "ip = np.array([[0,0],[0,1],[1,0],[1,1]]).astype('int8')\n",
    "y = np.array([0,0,0,1])"
   ]
  },
  {
   "cell_type": "code",
   "execution_count": 10,
   "id": "eea44edb",
   "metadata": {},
   "outputs": [
    {
     "name": "stdout",
     "output_type": "stream",
     "text": [
      "W1 : 1 W2 : 1 b : 1\n",
      "W1 : 1 W2 : 1 b : 1\n",
      "W1 : 1 W2 : 1 b : 1\n",
      "W1 : 2 W2 : 2 b : 2\n"
     ]
    }
   ],
   "source": [
    "w1,w2,b=nn(ip,y)"
   ]
  },
  {
   "cell_type": "code",
   "execution_count": 11,
   "id": "8fb61e9b",
   "metadata": {},
   "outputs": [
    {
     "name": "stdout",
     "output_type": "stream",
     "text": [
      "Predicted :  [2, 4, 4, 6] Threshold :  6\n"
     ]
    }
   ],
   "source": [
    "predicted,threshold=pred(ip,y,w1,w2,b)\n",
    "print(\"Predicted : \",predicted,\"Threshold : \",threshold)"
   ]
  },
  {
   "cell_type": "markdown",
   "id": "61981111",
   "metadata": {},
   "source": [
    "## Or Gate\n"
   ]
  },
  {
   "cell_type": "code",
   "execution_count": 12,
   "id": "9f2da06a",
   "metadata": {},
   "outputs": [
    {
     "name": "stdout",
     "output_type": "stream",
     "text": [
      "W1 : 1 W2 : 1 b : 1\n",
      "W1 : 1 W2 : 2 b : 2\n",
      "W1 : 2 W2 : 2 b : 3\n",
      "W1 : 3 W2 : 3 b : 4\n"
     ]
    }
   ],
   "source": [
    "ip = np.array([[0,0],[0,1],[1,0],[1,1]]).astype('int8')\n",
    "y = np.array([0,1,1,1])\n",
    "w1,w2,b=nn(ip,y)"
   ]
  },
  {
   "cell_type": "code",
   "execution_count": 13,
   "id": "6688a200",
   "metadata": {},
   "outputs": [
    {
     "name": "stdout",
     "output_type": "stream",
     "text": [
      "Predicted :  [4, 7, 7, 10] Threshold :  10\n"
     ]
    }
   ],
   "source": [
    "predicted,threshold=pred(ip,y,w1,w2,b)\n",
    "print(\"Predicted : \",predicted,\"Threshold : \",threshold)"
   ]
  },
  {
   "cell_type": "markdown",
   "id": "41837815",
   "metadata": {},
   "source": [
    "## Nand Gate\n"
   ]
  },
  {
   "cell_type": "code",
   "execution_count": 14,
   "id": "d403b9af",
   "metadata": {},
   "outputs": [
    {
     "name": "stdout",
     "output_type": "stream",
     "text": [
      "W1 : 1 W2 : 1 b : 2\n",
      "W1 : 1 W2 : 2 b : 3\n",
      "W1 : 2 W2 : 2 b : 4\n",
      "W1 : 2 W2 : 2 b : 4\n"
     ]
    }
   ],
   "source": [
    "ip = np.array([[0,0],[0,1],[1,0],[1,1]]).astype('int8')\n",
    "y = np.array([1,1,1,0])\n",
    "w1,w2,b=nn(ip,y)"
   ]
  },
  {
   "cell_type": "code",
   "execution_count": 15,
   "id": "914882e6",
   "metadata": {},
   "outputs": [
    {
     "name": "stdout",
     "output_type": "stream",
     "text": [
      "Predicted :  [4, 6, 6, 8] Threshold :  8\n"
     ]
    }
   ],
   "source": [
    "predicted,threshold=pred(ip,y,w1,w2,b)\n",
    "print(\"Predicted : \",predicted,\"Threshold : \",threshold)"
   ]
  },
  {
   "cell_type": "markdown",
   "id": "7e05f3fa",
   "metadata": {},
   "source": [
    "## Nor Gate\n"
   ]
  },
  {
   "cell_type": "code",
   "execution_count": 16,
   "id": "2e07b4dc",
   "metadata": {},
   "outputs": [
    {
     "name": "stdout",
     "output_type": "stream",
     "text": [
      "W1 : 1 W2 : 1 b : 2\n",
      "W1 : 1 W2 : 1 b : 2\n",
      "W1 : 1 W2 : 1 b : 2\n",
      "W1 : 1 W2 : 1 b : 2\n"
     ]
    }
   ],
   "source": [
    "ip = np.array([[0,0],[0,1],[1,0],[1,1]]).astype('int8')\n",
    "y = np.array([1,0,0,0])\n",
    "w1,w2,b=nn(ip,y)"
   ]
  },
  {
   "cell_type": "code",
   "execution_count": 17,
   "id": "90905dd5",
   "metadata": {},
   "outputs": [
    {
     "name": "stdout",
     "output_type": "stream",
     "text": [
      "Predicted :  [2, 3, 3, 4] Threshold :  4\n"
     ]
    }
   ],
   "source": [
    "predicted,threshold=pred(ip,y,w1,w2,b)\n",
    "print(\"Predicted : \",predicted,\"Threshold : \",threshold)"
   ]
  },
  {
   "cell_type": "markdown",
   "id": "9bd1c72a",
   "metadata": {},
   "source": [
    "## Xor Gate\n"
   ]
  },
  {
   "cell_type": "code",
   "execution_count": 18,
   "id": "cacf141e",
   "metadata": {},
   "outputs": [
    {
     "name": "stdout",
     "output_type": "stream",
     "text": [
      "W1 : 1 W2 : 1 b : 1\n",
      "W1 : 1 W2 : 2 b : 2\n",
      "W1 : 2 W2 : 2 b : 3\n",
      "W1 : 2 W2 : 2 b : 3\n"
     ]
    }
   ],
   "source": [
    "ip = np.array([[0,0],[0,1],[1,0],[1,1]]).astype('int8')\n",
    "y = np.array([0,1,1,0])\n",
    "w1,w2,b=nn(ip,y)"
   ]
  },
  {
   "cell_type": "code",
   "execution_count": 19,
   "id": "09a22d36",
   "metadata": {},
   "outputs": [
    {
     "name": "stdout",
     "output_type": "stream",
     "text": [
      "Predicted :  [3, 5, 5, 7] Threshold :  7\n"
     ]
    }
   ],
   "source": [
    "predicted,threshold=pred(ip,y,w1,w2,b)\n",
    "print(\"Predicted : \",predicted,\"Threshold : \",threshold)"
   ]
  },
  {
   "cell_type": "markdown",
   "id": "ecf19744",
   "metadata": {},
   "source": [
    "## Ques"
   ]
  },
  {
   "cell_type": "code",
   "execution_count": 20,
   "id": "72dd7cf1",
   "metadata": {},
   "outputs": [],
   "source": [
    "ip = np.array([[-1,-1],[-1,1],[1,-1],[1,1]]).astype('int8')\n",
    "y = np.array([-1,-1,-1,1])"
   ]
  },
  {
   "cell_type": "code",
   "execution_count": 21,
   "id": "426007b4",
   "metadata": {},
   "outputs": [
    {
     "name": "stdout",
     "output_type": "stream",
     "text": [
      "W1 : 2 W2 : 2 b : 0\n",
      "W1 : 3 W2 : 1 b : -1\n",
      "W1 : 2 W2 : 2 b : -2\n",
      "W1 : 3 W2 : 3 b : -1\n"
     ]
    }
   ],
   "source": [
    "w1,w2,b=nn(ip,y)"
   ]
  },
  {
   "cell_type": "code",
   "execution_count": 22,
   "id": "7ea760b4",
   "metadata": {},
   "outputs": [],
   "source": [
    "predicted,threshold=pred(ip,y,w1,w2,b)\n"
   ]
  },
  {
   "cell_type": "code",
   "execution_count": 23,
   "id": "35dd9020",
   "metadata": {},
   "outputs": [
    {
     "data": {
      "text/plain": [
       "['./Images\\\\Img1.jpg', './Images\\\\Img3.jpg', './Images\\\\Img4.jpg']"
      ]
     },
     "execution_count": 23,
     "metadata": {},
     "output_type": "execute_result"
    }
   ],
   "source": [
    "glob.glob(dir+r\"/*.jpg\")"
   ]
  },
  {
   "cell_type": "markdown",
   "id": "2cda96bd",
   "metadata": {},
   "source": [
    "## Perceptron"
   ]
  },
  {
   "cell_type": "code",
   "execution_count": 24,
   "id": "f9cd9ad7",
   "metadata": {},
   "outputs": [],
   "source": [
    "class Perceptron:\n",
    "    def __init__(self, size):   \n",
    "        self.weights = np.random.rand(size)\n",
    "        self.bias = np.random.rand(1)\n",
    "    \n",
    "    def decision_boundary(self, x):\n",
    "        return -(self.weights[0] * x + self.bias) / self.weights[1]\n",
    "    \n",
    "    def predict(self, inputs):\n",
    "        z = np.dot(inputs, self.weights) + self.bias\n",
    "        return 1 if z >= 0 else 0\n",
    "    \n",
    "    def train(self, inputs, labels, lr=0.1, epochs=100):\n",
    "        for _ in range(epochs):\n",
    "            for i in range(len(inputs)):\n",
    "                x = inputs[i]\n",
    "                y_true = labels[i]\n",
    "                y_pred = self.predict(x)\n",
    "                \n",
    "                update = lr * (y_true - y_pred)\n",
    "                self.weights += update * x\n",
    "                self.bias += update\n"
   ]
  },
  {
   "cell_type": "code",
   "execution_count": 25,
   "id": "e805debe",
   "metadata": {},
   "outputs": [
    {
     "name": "stdout",
     "output_type": "stream",
     "text": [
      "Input: [0 0], Output: 0\n",
      "Input: [0 1], Output: 0\n",
      "Input: [1 0], Output: 0\n",
      "Input: [1 1], Output: 1\n"
     ]
    }
   ],
   "source": [
    "inputs = np.array([[-1, -1], [-1, 1], [1, -1], [1, 1]])\n",
    "labels = np.array([-1, -1, -1, 1])\n",
    "perceptron = Perceptron(size=2)\n",
    "perceptron.train(inputs, labels)\n",
    "test_data = np.array([[0, 0], [0, 1], [1, 0], [1, 1]])\n",
    "for data in test_data:\n",
    "    prediction = perceptron.predict(data)\n",
    "    print(f\"Input: {data}, Output: {prediction}\")\n"
   ]
  },
  {
   "cell_type": "code",
   "execution_count": 26,
   "id": "1ee43d84",
   "metadata": {},
   "outputs": [
    {
     "data": {
      "image/png": "[encoded data removed]",
      "text/plain": [
       "<Figure size 640x480 with 1 Axes>"
      ]
     },
     "metadata": {},
     "output_type": "display_data"
    }
   ],
   "source": [
    "plt.scatter(inputs[:, 0], inputs[:, 1], c=labels, cmap='viridis', label='Data Points')\n",
    "plt.xlabel('Input cordinates')\n",
    "plt.ylabel('Output')\n",
    "\n",
    "x = np.linspace(-1.5, 2.5, 100)\n",
    "y = perceptron.decision_boundary(x)\n",
    "plt.plot(x, y, color='red', label='Decision Boundary')\n",
    "\n",
    "plt.legend()\n",
    "plt.title('Perceptron Decision Boundary')\n",
    "plt.grid(True)\n",
    "plt.show()\n"
   ]
  },
  {
   "cell_type": "markdown",
   "id": "75fbf674",
   "metadata": {},
   "source": [
    "## Perceptron"
   ]
  },
  {
   "cell_type": "code",
   "execution_count": 9,
   "id": "6e53b20d",
   "metadata": {},
   "outputs": [],
   "source": [
    "class Perceptron:\n",
    "    def __init__(self,weights,bias,thresh,size=None):\n",
    "        self.thresh = thresh\n",
    "        if weights is None:\n",
    "            self.weights = np.random.rand(size)\n",
    "            self.bias = np.random.rand(1)\n",
    "        else:\n",
    "            self.weights = weights\n",
    "            self.bias = bias\n",
    "    \n",
    "    def train(self,ip,op,lr=0.1):\n",
    "        for i in range(len(ip)):\n",
    "            Yin = np.dot(ip[i],self.weights) + self.bias\n",
    "#             print(Yin)\n",
    "            k = lr *(op[i])\n",
    "            if Yin > self.thresh:\n",
    "                Y = 1\n",
    "            elif Yin < self.thresh:\n",
    "                Y = -1\n",
    "            else:\n",
    "                Y=0\n",
    "#             print(k)\n",
    "            if Y != op[i]:\n",
    "                self.bias = self.bias + k\n",
    "                for j in range(ip.shape[1]):\n",
    "                    self.weights[j] = self.weights[j] + k*ip[i][j]\n",
    "            print(self.weights,self.bias)\n",
    "        return self.weights, self.bias"
   ]
  },
  {
   "cell_type": "code",
   "execution_count": 10,
   "id": "79acc5d8",
   "metadata": {},
   "outputs": [],
   "source": [
    "ip = np.array([[1,1],[1,-1],[-1,1],[-1,-1]])\n",
    "op = np.array([1,-1,-1,-1])"
   ]
  },
  {
   "cell_type": "code",
   "execution_count": 11,
   "id": "c25fa444",
   "metadata": {},
   "outputs": [],
   "source": [
    "a = Perceptron(np.array([0 ,0]), np.array(0),0)"
   ]
  },
  {
   "cell_type": "code",
   "execution_count": 12,
   "id": "fe1d493b",
   "metadata": {},
   "outputs": [
    {
     "name": "stdout",
     "output_type": "stream",
     "text": [
      "[1 1] 1\n",
      "[0 2] 0\n",
      "[1 1] -1\n",
      "[1 1] -1\n"
     ]
    },
    {
     "data": {
      "text/plain": [
       "(array([1, 1]), -1)"
      ]
     },
     "execution_count": 12,
     "metadata": {},
     "output_type": "execute_result"
    }
   ],
   "source": [
    "a.train(ip,op,lr=1)"
   ]
  },
  {
   "cell_type": "code",
   "execution_count": 13,
   "id": "3466f2ff",
   "metadata": {},
   "outputs": [
    {
     "name": "stdout",
     "output_type": "stream",
     "text": [
      "[1 1] -1\n",
      "[1 1] -1\n",
      "[1 1] -1\n",
      "[1 1] -1\n"
     ]
    },
    {
     "data": {
      "text/plain": [
       "(array([1, 1]), -1)"
      ]
     },
     "execution_count": 13,
     "metadata": {},
     "output_type": "execute_result"
    }
   ],
   "source": [
    "a.train(ip,op,1)"
   ]
  },
  {
   "cell_type": "code",
   "execution_count": null,
   "id": "3b88f213",
   "metadata": {},
   "outputs": [],
   "source": []
  }
 ],
 "metadata": {
  "kernelspec": {
   "display_name": "Python 3 (ipykernel)",
   "language": "python",
   "name": "python3"
  },
  "language_info": {
   "codemirror_mode": {
    "name": "ipython",
    "version": 3
   },
   "file_extension": ".py",
   "mimetype": "text/x-python",
   "name": "python",
   "nbconvert_exporter": "python",
   "pygments_lexer": "ipython3",
   "version": "3.9.13"
  }
 },
 "nbformat": 4,
 "nbformat_minor": 5
}
