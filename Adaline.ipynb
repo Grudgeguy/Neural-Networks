{
 "cells": [
  {
   "cell_type": "code",
   "execution_count": 2,
   "id": "10752b46",
   "metadata": {},
   "outputs": [],
   "source": [
    "import numpy as np\n",
    "import matplotlib.pyplot as plt"
   ]
  },
  {
   "cell_type": "markdown",
   "id": "ff201331",
   "metadata": {},
   "source": [
    "#### Adaline\n",
    "#### O/P = bias + lr(target - Yin)\n",
    "#### Yin = weights dot ip"
   ]
  },
  {
   "cell_type": "code",
   "execution_count": 3,
   "id": "0d227c49",
   "metadata": {},
   "outputs": [],
   "source": [
    "class Adaline:\n",
    "    def __init__(self,weights,bias,size=None):\n",
    "        if weights is None:\n",
    "            self.weights = np.random.rand(size)\n",
    "            self.bias = np.random.rand(1)\n",
    "        else:\n",
    "            self.weights = weights\n",
    "            self.bias = bias\n",
    "\n",
    "    def train(self,ip,op,lr=0.1):\n",
    "        for i in range(len(ip)):\n",
    "            Yin = np.dot(ip[i],self.weights) + self.bias\n",
    "            k = lr *(op[i] - Yin)\n",
    "            self.bias = self.bias + k\n",
    "            for j in range(ip.shape[1]):\n",
    "                self.weights[j] = self.weights[j] + k*ip[i][j]\n",
    "            print(self.weights,self.bias)\n",
    "        return self.weights, self.bias"
   ]
  },
  {
   "cell_type": "code",
   "execution_count": 4,
   "id": "9bbb936d",
   "metadata": {},
   "outputs": [],
   "source": [
    "a = Adaline(np.array([0.1 ,0.1]), np.array(0.1))"
   ]
  },
  {
   "cell_type": "code",
   "execution_count": 9,
   "id": "c0215291",
   "metadata": {},
   "outputs": [
    {
     "data": {
      "text/plain": [
       "(4, 1)"
      ]
     },
     "execution_count": 9,
     "metadata": {},
     "output_type": "execute_result"
    }
   ],
   "source": [
    "op=op.reshape(4,-1)\n",
    "op.shape"
   ]
  },
  {
   "cell_type": "code",
   "execution_count": 6,
   "id": "8d8f6a3b",
   "metadata": {},
   "outputs": [],
   "source": [
    "ip = np.array([[1,1],[1,-1],[-1,1],[-1,-1]])\n",
    "op = np.array([1,1,1,-1])"
   ]
  },
  {
   "cell_type": "code",
   "execution_count": 7,
   "id": "a772654f",
   "metadata": {},
   "outputs": [
    {
     "name": "stdout",
     "output_type": "stream",
     "text": [
      "[0.17 0.17] 0.16999999999999998\n",
      "[0.253 0.087] 0.253\n",
      "[0.1617 0.1783] 0.3443\n",
      "[0.26213 0.27873] 0.24386999999999998\n"
     ]
    },
    {
     "data": {
      "text/plain": [
       "(array([0.26213, 0.27873]), 0.24386999999999998)"
      ]
     },
     "execution_count": 7,
     "metadata": {},
     "output_type": "execute_result"
    }
   ],
   "source": [
    "a.train(ip,op)"
   ]
  },
  {
   "cell_type": "code",
   "execution_count": 8,
   "id": "262fcbba",
   "metadata": {},
   "outputs": [
    {
     "name": "stdout",
     "output_type": "stream",
     "text": [
      "[0.283657 0.300257] 0.265397\n",
      "[0.3587773 0.2251367] 0.3405173\n",
      "[0.27946497 0.30444903] 0.41982963000000006\n",
      "[0.36305653 0.38804059] 0.33623806700000003\n"
     ]
    },
    {
     "data": {
      "text/plain": [
       "(array([0.36305653, 0.38804059]), 0.33623806700000003)"
      ]
     },
     "execution_count": 8,
     "metadata": {},
     "output_type": "execute_result"
    }
   ],
   "source": [
    "a.train(ip,op)"
   ]
  },
  {
   "cell_type": "code",
   "execution_count": 10,
   "id": "706ce320",
   "metadata": {},
   "outputs": [
    {
     "name": "stdout",
     "output_type": "stream",
     "text": [
      "[0.35432301 0.37930707] [0.32750455]\n",
      "[0.42407096 0.30955912] [0.3972525]\n",
      "[0.35234503 0.38128506] [0.46897843]\n",
      "[0.42587987 0.45481989] [0.3954436]\n"
     ]
    },
    {
     "data": {
      "text/plain": [
       "(array([0.42587987, 0.45481989]), array([0.3954436]))"
      ]
     },
     "execution_count": 10,
     "metadata": {},
     "output_type": "execute_result"
    }
   ],
   "source": [
    "a.train(ip,op)"
   ]
  },
  {
   "cell_type": "code",
   "execution_count": null,
   "id": "5bf60465",
   "metadata": {},
   "outputs": [],
   "source": []
  }
 ],
 "metadata": {
  "kernelspec": {
   "display_name": "Python 3 (ipykernel)",
   "language": "python",
   "name": "python3"
  },
  "language_info": {
   "codemirror_mode": {
    "name": "ipython",
    "version": 3
   },
   "file_extension": ".py",
   "mimetype": "text/x-python",
   "name": "python",
   "nbconvert_exporter": "python",
   "pygments_lexer": "ipython3",
   "version": "3.9.13"
  }
 },
 "nbformat": 4,
 "nbformat_minor": 5
}
