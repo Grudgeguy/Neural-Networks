{
 "cells": [
  {
   "cell_type": "code",
   "execution_count": 1,
   "id": "330b8e61",
   "metadata": {},
   "outputs": [],
   "source": [
    "import matplotlib.pyplot as plt\n",
    "import numpy as np \n",
    "import pandas as pd"
   ]
  },
  {
   "cell_type": "code",
   "execution_count": 1,
   "id": "67c914e0",
   "metadata": {
    "scrolled": true
   },
   "outputs": [
    {
     "name": "stdout",
     "output_type": "stream",
     "text": [
      "W1 : 1 W2 : 1\n",
      "W1 : 1 W2 : 2\n",
      "W1 : 2 W2 : 2\n",
      "W1 : 3 W2 : 3\n"
     ]
    }
   ],
   "source": [
    "import numpy as np\n",
    "def nn(ip,y):\n",
    "    w1=w2=1\n",
    "    for i in range(len(ip)):\n",
    "        w1=y[i]*ip[i][0] + w1\n",
    "        w2=y[i]*ip[i][1] + w2\n",
    "#         b=b+y[i]\n",
    "        print(f\"W1 : {w1} W2 : {w2}\")\n",
    "    return w1,w2,\n",
    "\n",
    "def pred(ip,y,w1,w2,):\n",
    "    ypr=[]\n",
    "    for i in range(len(ip)):\n",
    "        ans = w1*ip[i][0]+ w2*ip[i][1] \n",
    "        ypr.append(ans)\n",
    "    t=np.array(ypr)\n",
    "    return ypr\n",
    "\n",
    "#and gate\n",
    "ip = np.array([[0,0],[0,1],[1,0],[1,1]]).astype('int8')\n",
    "y = np.array([0,1,1,1])\n",
    "\n",
    "w1,w2=nn(ip,y)\n"
   ]
  },
  {
   "cell_type": "code",
   "execution_count": 3,
   "id": "f3f8f554",
   "metadata": {},
   "outputs": [
    {
     "name": "stdout",
     "output_type": "stream",
     "text": [
      "W1: 1 W2: 1\n",
      "W1: 1 W2: 1\n",
      "W1: 1 W2: 1\n",
      "W1: 2 W2: 2\n",
      "Predictions: [0, 2, 2, 4]\n"
     ]
    }
   ],
   "source": [
    "import numpy as np\n",
    "\n",
    "class MPNeuron:\n",
    "    def __init__(self):\n",
    "        self.w1 = 1\n",
    "        self.w2 = 1\n",
    "\n",
    "    def train(self, input_data, y):\n",
    "        for i in range(len(input_data)):\n",
    "            self.w1 = y[i] * input_data[i][0] + self.w1\n",
    "            self.w2 = y[i] * input_data[i][1] + self.w2\n",
    "            print(f\"W1: {self.w1} W2: {self.w2}\")\n",
    "\n",
    "    def predict(self, input_data):\n",
    "        ypr = []\n",
    "        for i in range(len(input_data)):\n",
    "            ans = self.w1 * input_data[i][0] + self.w2 * input_data[i][1]\n",
    "            ypr.append(ans)\n",
    "        return ypr\n",
    "\n",
    "ip = np.array([[0, 0], [0, 1], [1, 0], [1, 1]]).astype('int8')\n",
    "y = np.array([0, 0, 0, 1])\n",
    "\n",
    "mp_neuron = MPNeuron()\n",
    "mp_neuron.train(ip, y)\n",
    "predictions = mp_neuron.predict(ip)\n",
    "print(\"Predictions:\", predictions)\n"
   ]
  },
  {
   "cell_type": "code",
   "execution_count": null,
   "id": "9ba0b3dd",
   "metadata": {},
   "outputs": [],
   "source": []
  }
 ],
 "metadata": {
  "kernelspec": {
   "display_name": "Python 3 (ipykernel)",
   "language": "python",
   "name": "python3"
  },
  "language_info": {
   "codemirror_mode": {
    "name": "ipython",
    "version": 3
   },
   "file_extension": ".py",
   "mimetype": "text/x-python",
   "name": "python",
   "nbconvert_exporter": "python",
   "pygments_lexer": "ipython3",
   "version": "3.9.13"
  }
 },
 "nbformat": 4,
 "nbformat_minor": 5
}
